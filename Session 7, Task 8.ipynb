{
 "cells": [
  {
   "cell_type": "markdown",
   "id": "1f2e6eda",
   "metadata": {},
   "source": [
    "                                 Languages Support Multithreading\n",
    "* C/C++ Languages Now Include Multithreading Libraries\n",
    "Moving from single-threaded programs to multithreaded increases complexity. Programming languages, such as C and C++, have evolved to make it easier to use multiple threads and handle this complexity. Both C and C++ now include threading libraries.\n",
    "\n",
    "Modern C++, in particular, has gone a long way to make parallel programming easier. C++11 included a standard threading library. C++17 added parallel algorithms — and parallel implementations of many standard algorithms.\n",
    "\n",
    "Additional support for parallelism is expected in future versions of C++\n"
   ]
  }
 ],
 "metadata": {
  "kernelspec": {
   "display_name": "Python 3 (ipykernel)",
   "language": "python",
   "name": "python3"
  },
  "language_info": {
   "codemirror_mode": {
    "name": "ipython",
    "version": 3
   },
   "file_extension": ".py",
   "mimetype": "text/x-python",
   "name": "python",
   "nbconvert_exporter": "python",
   "pygments_lexer": "ipython3",
   "version": "3.11.3"
  }
 },
 "nbformat": 4,
 "nbformat_minor": 5
}
