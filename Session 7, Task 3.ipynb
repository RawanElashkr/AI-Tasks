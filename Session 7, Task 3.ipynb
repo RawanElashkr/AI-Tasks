{
 "cells": [
  {
   "cell_type": "markdown",
   "id": "8fabde0b",
   "metadata": {},
   "source": [
    "                                    BIOS (basic input/output system)\n",
    " BIOS (basic input/output system) is the program a computer's microprocessor uses to start the computer system after it is powered on. It also manages data flow between the computer's operating system (OS) and attached devices, such as the hard disk, video adapter, keyboard, mouse and printer.\n",
    "fixed and embedded on a device's microprocessor that helps to initialize hardware operations and manage the data flow to and from the operating system (OS) at the time of bootup. Gary Kildall, a U.S. computer scientist, invented the word BIOS in 1975. \n",
    "\n",
    "* History of BIOS\n",
    "The term BIOS was first coined in 1975 by American computer scientist Gary Kildall. It was incorporated into IBM's first personal computer in 1981 and, in the years to come, gained popularity within other PCs, becoming an integral part of computers for some time. However, BIOS' popularity has waned in favor of a newer technology: Unified Extensible Firmware Interface (UEFI). Intel announced a plan in 2017 to retire support for legacy BIOS systems by 2020, replacing them with UEFI.\n",
    "\n",
    "* Uses of BIOS\n",
    "The main use of BIOS is to act as a middleman between OSes and the hardware they run on. BIOS is theoretically always the intermediary between the microprocessor and I/O device control information and data flow. Although, in some cases, BIOS can arrange for data to flow directly to memory from devices, such as video cards, that require faster data flow to be effective.\n",
    "\n",
    "* How does BIOS work?\n",
    "BIOS comes included with computers, as firmware on a chip on the motherboard. In contrast, an OS like Windows or iOS can either be pre-installed by the manufacturer or vendor or installed by the user. BIOS is a program that is made accessible to the microprocessor on an erasable programmable read-only memory (EPROM) chip. When users turn on their computer, the microprocessor passes control to the BIOS program, which is always located at the same place on EPROM.\n",
    "\n",
    "When BIOS boots up a computer, it first determines whether all of the necessary attachments are in place and operational. Any piece of hardware containing files the computer needs to start is called a boot device. After testing and ensuring boot devices are functioning, BIOS loads the OS -- or key parts of it -- into the computer's random access memory (RAM) from a hard disk or diskette drive (the boot device).\n",
    "\n",
    "* The 4 functions of BIOS\n",
    "BIOS identifies, configures, tests and connects computer hardware to the OS immediately after a computer is turned on. The combination of these steps is called the boot process.\n",
    "\n",
    "These tasks are each carried out by BIOS' four main functions:\n",
    "\n",
    "-Power-on self-test (POST). This tests the hardware of the computer before loading the OS.\n",
    "-Bootstrap loader. This locates the OS.\n",
    "-Software/drivers. This locates the software and drivers that interface with the OS once running.\n",
    "-Complementary metal-oxide semiconductor (CMOS) setup. This is a configuration program that enable users to alter hardware and system settings. CMOS is the name of BIOS' non-volatile memory."
   ]
  }
 ],
 "metadata": {
  "kernelspec": {
   "display_name": "Python 3 (ipykernel)",
   "language": "python",
   "name": "python3"
  },
  "language_info": {
   "codemirror_mode": {
    "name": "ipython",
    "version": 3
   },
   "file_extension": ".py",
   "mimetype": "text/x-python",
   "name": "python",
   "nbconvert_exporter": "python",
   "pygments_lexer": "ipython3",
   "version": "3.11.3"
  }
 },
 "nbformat": 4,
 "nbformat_minor": 5
}
