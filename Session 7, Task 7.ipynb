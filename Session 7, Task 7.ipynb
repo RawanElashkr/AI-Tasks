{
 "cells": [
  {
   "cell_type": "markdown",
   "id": "b95abcbe",
   "metadata": {},
   "source": [
    "                                       Threading vs Parallelism\n",
    " There are two different kinds of concurrency:\n",
    "\n",
    "1. Threading\n",
    "CPU switches between different threads really fast, giving a falsehood of concurrency. Keypoint: only one thread is running at any given time. When one thread is running, others are blocked. You might think, how is this any useful than just running procedurally? Well, think of it as a priority queue. Threads can be scheduled. CPU scheduler can give each thread a certain amount of time to run, pause them, pass data to other threads, then give them different priorities to run at a later time. It's a must for not instant running processes that interact with each other. It's used in servers extensively: thousands of clients can request something at the same time, then getting what they requested at a later time (If done procedurally, only one client can be served at a time). Philosophy: do different things together. It doesn't reduce the total time (moot point for server, because one client doesn't care other clients' total requests).\n",
    "2. Parallelism\n",
    "threads are running parallel, usually in different CPU core, true concurrency. Keypoint: mlutiple threads are running at any given time. It's useful for heavy computations, super long running processes. Same thing with a fleet of single core machines, split data into sections for each machine to compute, pool them together at the end. Different machines/cores are hard to interact with each other. Philosophy: do one thing in less time.\n",
    "As you can see, they solve totally different kinds of problems.\n",
    "\n",
    "Threading is usually referred to having multiple processes working at the same time on a single CPU (well actually not you think they do but they switch very fast between them).\n",
    "\n",
    "Parallelism is having multiple processes working at the same time on multiple CPU's.\n",
    "\n",
    "Both have their pros and cons heavily depending on the scheduler used by your operating system. Usually the computation cost of creating a thread is much lower then spawning a process on another CPU, however having a 'whole' CPU for yourself increases the overall speed of that process. But then again if that process needs to communicate with another process on another CPU you need to solve the IPC (inter process communication) problem which might be such an overhead that it is effectively better to just use a thread on the same CPU.\n",
    "\n",
    "Most operating system are aware of multiple CPU's/Cores and can use them, but this makes the scheduler usually quite complex.\n",
    "\n",
    "If your are programming in a language that uses a VM (virtual machine), be aware that they need to implement their own scheduler (if at all). Python for example uses a GIL, which pretty much says that everything running on that VM stays on the same CPU, always. Though some OS's are capable of migrating a heavy process to another CPU that isn't so busy at the moment, which of course means that the whole process needs to be paused while it is doing that.\n",
    "\n",
    "Some operating systems like DragonFlyBSD take a whole different approach to scheduling then what at this moment is the 'standard' approach.\n",
    "\n",
    "I think this answer gives you enough keywords to search for more information.\n",
    "8\n",
    "\n",
    "Parallelism is a general technique of using more than one flow of instructions to complete a computation. The critical aspect of all parallel techniques is communicating between flows to collaborate a final answer.\n",
    "\n",
    "Threading is a specific implementation of parallelism. Each flow of instructions is given it's own stack to keep a record of local variables and function calls, and communicates with the other flows implicitly by shared memory.\n",
    "\n",
    "One example might be to have one thread simply queue up disk requests and pass it to a worker thread, effectively parallelizing disk and CPU. The traditional UNIX pipes method is to split these into two complete programs, say \"cat\" and grep in the command:\n",
    "\n",
    "cat /var/log/Xorg.0.log | grep \"EE\"\n",
    "Threading could conceivably reduce the communication costs of copying disk I/O from the cat process to the grep process.\n"
   ]
  }
 ],
 "metadata": {
  "kernelspec": {
   "display_name": "Python 3 (ipykernel)",
   "language": "python",
   "name": "python3"
  },
  "language_info": {
   "codemirror_mode": {
    "name": "ipython",
    "version": 3
   },
   "file_extension": ".py",
   "mimetype": "text/x-python",
   "name": "python",
   "nbconvert_exporter": "python",
   "pygments_lexer": "ipython3",
   "version": "3.11.3"
  }
 },
 "nbformat": 4,
 "nbformat_minor": 5
}
