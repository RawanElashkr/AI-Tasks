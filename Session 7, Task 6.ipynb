{
 "cells": [
  {
   "cell_type": "markdown",
   "id": "81eb8ec9",
   "metadata": {},
   "source": [
    "                             Difference between First Come First Served (FCFS) and Round Robin and Priority\n",
    "* First Come First Served Scheduling Algorithm: \n",
    "First Come First Served (FCFS) is the simplest and non-preemptive scheduling algorithm. In First Come First Served (FCFS), the process is allocated to the CPU in the order of their arrival. A queue data structure is used to implement the FCFS scheduling algorithm. The process which is at the head of the ready queue is allocated to the CPU, when CPU is free. Then the process which is running is removed from the queue. When a new process enters into the ready queue, it is placed onto the tail of the ready queue. \n",
    "\n",
    "* Round Robin Scheduling Algorithm: \n",
    " Round-Robin (RR) Scheduling Algorithm is particularly designed for time sharing systems. The processes are put into the ready queue which is a circular queue in this case. In this case a small unit of time known as time quantum is defined. The algorithm selects the first process from the queue and executes it for the time defined by the time quantum. If the process has burst time less than the time quantum then the CPU executes the next process but if it has burst time higher than the time quantum then the process is interrupted and next process is executed for same time quantum. If a process is interrupted then a context switch happens and the process is put back at the tail of the queue. It is preemptive in nature. This algorithm mainly depends on the time quantum. Very large time quantum makes RR same as the FCFS while a very small time quantum will lead to the overhead as context switch will happen again and again after very small intervals. The major advantage of this algorithm is that all processes get executed one after the other which does not lead to starvation of processes or waiting by process for quite long time to get executed. \n",
    "Disadvantages : Quantum size: The quantum size must be carefully chosen, a larger quantum size leads to longer waiting times for smaller processes, while a smaller quantum size results in increased overhead.\n",
    "\n",
    "The difference between First Come First Served (FCFS) and Round Robin(RR) scheduling algorithm are as follows: \n",
    "\tFirst Come First Served (FCFS)\tRound Robin(RR)\n",
    "1.\tFirst Come First Served (FCFS) is the non-preemptive scheduling algorithm.\tRound Robin(RR) is the preemptive scheduling algorithm.\n",
    "2.\tFCFS has the minimal overhead.\tWhile RR has small overhead as it is necessary to record the time elapsed and then switch the process which causes an overhead.\n",
    "3.\tFirst Come First Served Scheduling Algorithm provides high response time for the processes.\tIn Round Robin Scheduling Algorithm, for the short processes there is very low response time.\n",
    "3.\tFCFS is inconvenient to use in the time sharing system.\tIt is mainly designed for the time sharing system and hence convenient to use.\n",
    "5.\tAverage waiting time is generally not minimal in First Come First Served Scheduling Algorithm. \tIn Round Robin Scheduling Algorithm average waiting time is minimal. \n",
    "6.\tThe process is simply processed in the order of their arrival in FCFS.\tIt is similar like FCFS in processing but uses time quantum\n",
    "* Priority Scheduling\t\n",
    "Priority Scheduling executes the processes according to the priority i.e. process with higher priority is executed first.\n",
    "Priority Scheduling is both preemptive and non-preemptive in nature.\n",
    "The average waiting time and average response time is unknown beforehand.\n",
    "It is easy to implement and best suited for real time operating systems.\n",
    "The problem of blocking of a process can be solved using aging."
   ]
  }
 ],
 "metadata": {
  "kernelspec": {
   "display_name": "Python 3 (ipykernel)",
   "language": "python",
   "name": "python3"
  },
  "language_info": {
   "codemirror_mode": {
    "name": "ipython",
    "version": 3
   },
   "file_extension": ".py",
   "mimetype": "text/x-python",
   "name": "python",
   "nbconvert_exporter": "python",
   "pygments_lexer": "ipython3",
   "version": "3.11.3"
  }
 },
 "nbformat": 4,
 "nbformat_minor": 5
}
